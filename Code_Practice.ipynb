{
 "cells": [
  {
   "cell_type": "markdown",
   "id": "c935b7de",
   "metadata": {},
   "source": [
    "### Implementing an Algorithm"
   ]
  },
  {
   "cell_type": "markdown",
   "id": "99168a10",
   "metadata": {},
   "source": [
    "- Import the scikit-learn library for linear regression.\n",
    "- Instantiate the model."
   ]
  },
  {
   "cell_type": "code",
   "execution_count": 1,
   "id": "7d17fc97",
   "metadata": {},
   "outputs": [],
   "source": [
    "#Import SciKitLearn Algorithm\n",
    "from sklearn.linear_model import LinearRegression\n",
    "\n",
    "# Instantiate the model\n",
    "model = LinearRegression()"
   ]
  },
  {
   "cell_type": "markdown",
   "id": "7d1bd770",
   "metadata": {},
   "source": [
    "### Training the Model in Practice\n",
    "\n",
    "- Read in the CSV file for the dataset.\n",
    "- Organize and structure the data in a DataFrame.\n",
    "- Select X & y training subsets.\n",
    "- Train the model."
   ]
  },
  {
   "cell_type": "code",
   "execution_count": 2,
   "id": "b044a402",
   "metadata": {},
   "outputs": [],
   "source": [
    "# Import pandas read csv function.\n",
    "from pandas import DataFrame as DF, read_csv\n",
    "\n",
    "# Read in the training data csv file.\n",
    "dataset = read_csv(\"Training the Model in Practice/no_null_encoded_titanic.csv\")\n",
    "\n",
    "# Structure the data for training the model.\n",
    "dataset = dataset.drop(columns=[\"Unnamed: 0.1\", \"Unnamed: 0\", \"alive\"])\n",
    "\n",
    "\"\"\"\n",
    "FOR THESE IT MAY BE MORE STURDY TO REFERENCE BY NAME IN CASE SOMETHING HAPPENS WHERE INDEXES ARE SWITCHED BY ACCIDENT\n",
    "INDEX REFERENCE CAN BE MORE ACCIDENT PRONE\n",
    "\"\"\"\n",
    "\n",
    "# Create Subsets of the dataset to train the model on. (X & y selection)\n",
    "target_column_name = \"survived\"\n",
    "y_training = dataset[target_column_name]\n",
    "X_training = dataset.drop(columns=target_column_name)\n",
    "\n",
    "# View the training subsets.\n",
    "#display(X_training)\n",
    "#display(y_training)\n",
    "\n",
    "# Train the model on the subsets of data that were created.1"
   ]
  },
  {
   "cell_type": "markdown",
   "id": "81e63420",
   "metadata": {},
   "source": [
    "### Applying a Model\n",
    "\n",
    "- Setup and train a classification model using the Titanic dataset.\n",
    "- Setup and train a Regression model using the House cleaning dataset."
   ]
  },
  {
   "cell_type": "code",
   "execution_count": 3,
   "id": "222a0e9b",
   "metadata": {},
   "outputs": [],
   "source": [
    "# Import the Decision Tree and Linear Regression Algorithms\n",
    "from sklearn.tree import DecisionTreeClassifier\n",
    "from sklearn.linear_model import LinearRegression\n",
    "from sklearn.model_selection import train_test_split as tts\n",
    "\n",
    "# Import pandas functions.\n",
    "from pandas import concat\n",
    "import pandas as pd\n",
    "\n",
    "# Set pandas options\n",
    "pd.options.display.float_format = '{:10,.2f}'.format\n",
    "\n",
    "# Variables\n",
    "training_percentage = 0.75\n",
    "# TRAIN TEST SPLIT IS SIMPLEST METHOD FOR ... TRAIN TEST SPLIT\n",
    "# NO NEED TO INIT VARS IN PYTHON\n",
    "\n",
    "# Instantiate the models.\n",
    "DT_Model = DecisionTreeClassifier()\n",
    "LR_Model = LinearRegression()\n",
    "\n",
    "# Read in the Datasets\n",
    "DT_dataset = read_csv(\"Applying a Model/no_null_encoded_titanic.csv\")\n",
    "LR_dataset = read_csv(\"Applying a Model/kc_house_cleaned (2).csv\")\n",
    "\n",
    "# Display the datasets\n",
    "#display(DT_dataset)\n",
    "#display(LR_dataset)\n",
    "\n",
    "# Structure and organize the datasets.\n",
    "DT_dataset = DT_dataset.drop(columns=[\"Unnamed: 0.1\", \"Unnamed: 0\", \"alive\"])\n",
    "LR_dataset = LR_dataset.drop(columns=[\"Unnamed: 0\"])\n",
    "# INDEX BASED COLUMN REFERENCE IS RISKY SINCE INDEXES CAN SOMETIMES CHANGE BY ACCIDENT DURING DATASET MANIPULATION\n",
    "# TEXT LABEL BASED INDEXING ADAPTS TO ANY INDEX CHANGES THAT MIGHT OCCUR IF YOU NEEDED TO REFACTOR THE CODE\n",
    "\n",
    "# Set target features\n",
    "DT_target_data_feature = \"survived\"\n",
    "LR_target_data_feature = \"price\"\n",
    "\n",
    "#train, test = tts(DT_dataset, DT_target_data_feature, [\"\"<\"\"<\"\"<\"\"<\"\"]) \n",
    "\n",
    "#X_train = train.drop(DT_target_data_feature)\n",
    "#y_train = train[DT_target_data_feature]\n",
    "\n",
    "# Slice datasets for training and validation.\n",
    "DT_pivot = round(len(DT_dataset.index)*training_percentage)\n",
    "LR_pivot = round(len(LR_dataset.index)*training_percentage)\n",
    "DT_train = DT_dataset.iloc[:DT_pivot]\n",
    "DT_test = DT_dataset.iloc[DT_pivot:]\n",
    "LR_train = LR_dataset.iloc[:LR_pivot]\n",
    "LR_test = LR_dataset.iloc[LR_pivot:]\n",
    "# SEVERAL SHORTCUTS HERE:\n",
    "    #index[DT_pivot:len(DT_dataset.index)]\n",
    "        # =>\n",
    "        # index[DT_pivot:]\n",
    "    # index[0:DT_pivot]\n",
    "        # =>\n",
    "        # index[:DT_pivot]\n",
    "    # DT_dataset.drop(DT_dataset.index[DT_pivot:len(DT_dataset.index)])\n",
    "        # =>\n",
    "        # DT_dataset.iloc[DT_pivot:len(DT_dataset.index)]\n",
    "            # =>\n",
    "            # DT_dataset.iloc[DT_pivot:]\n",
    "\n",
    "# Build subsets for validation.\n",
    "X_DT_Testing = DT_test.drop(columns=DT_target_data_feature)\n",
    "\n",
    "y_DT_Testing = DF(DT_test[DT_target_data_feature]) \n",
    "\n",
    "\"\"\" \n",
    "SHOULDN'T NORMALLY BE NECESSARY TO RECAST AS A DATAFRAME IN THIS PARTICULAR CONTEXT - MAY WANT TO CHECK OUT 1-1 IF THIS DOES CRASH\n",
    "\"\"\"\n",
    "\n",
    "y_DT_Testing.rename(columns={DT_target_data_feature:\"Known Answers\"}, inplace=True)\n",
    "y_DT_Testing.reset_index(drop=True, inplace=True)\n",
    "\n",
    "\"\"\"\n",
    "RESETTING INDEX GENERALLY ISN'T NECESSARY UNLESS YOU ARE COMBINING WITH A PREDICTION SET TO COMPARE ANSWERS AT THE END\n",
    "HOWEVER IF YOU ARE GOING TO COMBINE WITH A PREDICTION SET FOR SIDE-BY-SIDE COMPS, THEN IT IS NECESSARY, SO GOOD JOB THERE\n",
    "BUT THEN THE RELATION OF THE LABELS TO THE X (INPUTS) IS LOST, IF YOU WANT THOSE. JUST DEPENDS.\n",
    "\"\"\"\n",
    "\n",
    "X_LR_Testing = LR_test.drop(columns=LR_target_data_feature)\n",
    "\n",
    "y_LR_Testing = DF(LR_test[LR_target_data_feature])\n",
    "\n",
    "y_LR_Testing.rename(columns={LR_target_data_feature:\"Known Answers\"}, inplace=True)\n",
    "y_LR_Testing.reset_index(drop=True, inplace=True)\n",
    "\n",
    "\"\"\"\n",
    "SAME COMMENTS AS ABOVE\n",
    "\"\"\"\n",
    "\n",
    "# Build subsets for training.\n",
    "X_DT_Training = DT_train.drop(columns=DT_target_data_feature)\n",
    "y_DT_Training = DT_train[DT_target_data_feature]\n",
    "\n",
    "X_LR_Training = LR_train.drop(columns=LR_target_data_feature)\n",
    "y_LR_Training = LR_train[LR_target_data_feature]\n",
    "\n",
    "# Fit models with the training subsets.\n",
    "DT_Model.fit(X_DT_Training, y_DT_Training)\n",
    "LR_Model.fit(X_LR_Training, y_LR_Training)\n",
    "\n",
    "# Test Models with testing subsets.\n",
    "DT_result = DT_Model.predict(X_DT_Testing)\n",
    "DT_result = DF(DT_result, columns=[\"Predictions\"])\n",
    "\n",
    "LR_result = LR_Model.predict(X_LR_Testing)\n",
    "LR_result = DF(LR_result, columns=[\"Predictions\"])\n",
    "\n",
    "#y_LR_Testing[\"predictions\"] = LR_result\n",
    "\n",
    "#display(y_LR_Testing)\n",
    "\n",
    "# Super-impose known answers to DataFrame.\n",
    "DT_result = pd.concat([DT_result, y_DT_Testing], axis=1)\n",
    "LR_result = pd.concat([LR_result, y_LR_Testing], axis=1)\n",
    "# GOOD SINCE YOU ARE CONCATENATING PREDS TO LABELS, THE EARLIER RESETTING OF THE INDEX WAS THE RIGHT CHOICE!\n",
    "\n",
    "# Display results.\n",
    "#display(DT_result)\n",
    "#display(LR_result)\n",
    "\n",
    "\n"
   ]
  },
  {
   "cell_type": "markdown",
   "id": "9f927f71",
   "metadata": {},
   "source": [
    "### Testing Accuracy in Practice\n",
    "\n",
    "- Test the classification model and calculate accuracy percentage.\n",
    "- Test the Regression model and calculate accuracy percentage."
   ]
  },
  {
   "cell_type": "code",
   "execution_count": 5,
   "id": "788eced4",
   "metadata": {},
   "outputs": [],
   "source": [
    "# Reset results DataFrames from previous exercise to remove concatenations.\n",
    "DT_result = DT_Model.predict(X_DT_Testing)\n",
    "LR_result = LR_Model.predict(X_LR_Testing)\n",
    "\n",
    "# Gather Accuracy Scores.\n",
    "DT_acc = DT_Model.score(X_DT_Testing, y_DT_Testing)\n",
    "LR_acc = LR_Model.score(X_LR_Testing, y_LR_Testing)\n",
    "\n",
    "# Calculate percentages.\n",
    "DT_per = DT_acc*100\n",
    "LR_per = LR_acc*100\n",
    "\n",
    "# Display scores and percentages.\n",
    "\n",
    "# display(\"Decision Tree Scores:\")\n",
    "# display(f\"Accuracy Score: {DT_acc:.5f}\")\n",
    "# display(f\"Accuracy Percentage: {DT_per:.2f}%\")\n",
    "# display(\"\\n\")\n",
    "# display(\"Linear Regression Scores:\")\n",
    "# display(f\"Accuracy Score: {LR_acc:.5f}\")\n",
    "# display(f\"Accuracy Percentage: {LR_per:.2f}%\")\n"
   ]
  },
  {
   "cell_type": "markdown",
   "id": "843e6788",
   "metadata": {},
   "source": [
    "### Applying a Recall Test\n",
    "\n",
    "- Import the recall-score function.\n",
    "- Implement the recall_score function for Decision Tree Model."
   ]
  },
  {
   "cell_type": "code",
   "execution_count": 11,
   "id": "0d5d16b7",
   "metadata": {},
   "outputs": [
    {
     "data": {
      "text/plain": [
       "array([0.77777778, 0.71428571])"
      ]
     },
     "metadata": {},
     "output_type": "display_data"
    }
   ],
   "source": [
    "from sklearn.metrics import recall_score\n",
    "\n",
    "DT_Rscore = recall_score(y_DT_Testing, DT_Model.predict(X_DT_Testing), average=None)\n",
    "#LR_Rscore = recall_score(y_LR_Testing, LR_Model.predict(X_LR_Testing), average=None)\n",
    "\n",
    "display(DT_Rscore)\n"
   ]
  }
 ],
 "metadata": {
  "kernelspec": {
   "display_name": "Python 3",
   "language": "python",
   "name": "python3"
  },
  "language_info": {
   "codemirror_mode": {
    "name": "ipython",
    "version": 3
   },
   "file_extension": ".py",
   "mimetype": "text/x-python",
   "name": "python",
   "nbconvert_exporter": "python",
   "pygments_lexer": "ipython3",
   "version": "3.12.1"
  }
 },
 "nbformat": 4,
 "nbformat_minor": 5
}

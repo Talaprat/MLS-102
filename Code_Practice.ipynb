{
 "cells": [
  {
   "cell_type": "markdown",
   "id": "c935b7de",
   "metadata": {},
   "source": [
    "### Implementing an Algorithm"
   ]
  },
  {
   "cell_type": "markdown",
   "id": "99168a10",
   "metadata": {},
   "source": [
    "- Import the scikit-learn library for linear regression.\n",
    "- Instantiate the model."
   ]
  },
  {
   "cell_type": "code",
   "execution_count": 6,
   "id": "7d17fc97",
   "metadata": {},
   "outputs": [],
   "source": [
    "from sklearn.linear_model import LinearRegression\n",
    "\n",
    "model = LinearRegression()"
   ]
  }
 ],
 "metadata": {
  "kernelspec": {
   "display_name": "Python 3",
   "language": "python",
   "name": "python3"
  },
  "language_info": {
   "codemirror_mode": {
    "name": "ipython",
    "version": 3
   },
   "file_extension": ".py",
   "mimetype": "text/x-python",
   "name": "python",
   "nbconvert_exporter": "python",
   "pygments_lexer": "ipython3",
   "version": "3.12.1"
  }
 },
 "nbformat": 4,
 "nbformat_minor": 5
}
